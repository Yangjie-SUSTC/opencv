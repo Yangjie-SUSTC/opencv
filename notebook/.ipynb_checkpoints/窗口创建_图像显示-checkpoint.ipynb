{
 "cells": [
  {
   "cell_type": "markdown",
   "metadata": {},
   "source": [
    "# opencv 基本操作\n",
    "## 图像读取"
   ]
  },
  {
   "cell_type": "code",
   "execution_count": 2,
   "metadata": {
    "collapsed": true
   },
   "outputs": [],
   "source": [
    "# -*- coding: utf-8 -*-\n",
    "\"\"\"\n",
    "Created on 2018/10/23\n",
    "\n",
    "\n",
    "@author: yangjie\n",
    "\n",
    "\"\"\"\n",
    "\n",
    "import numpy as np\n",
    "\n",
    "import cv2\n",
    "\n",
    "\n",
    "#load an color image in grayscale\n",
    "img = cv2.imread('messi5.jpg',0)\n"
   ]
  },
  {
   "cell_type": "code",
   "execution_count": 2,
   "metadata": {},
   "outputs": [
    {
     "name": "stdout",
     "output_type": "stream",
     "text": [
      "None\n"
     ]
    }
   ],
   "source": [
    "print(img)# 错误的路径名并不会报错，只是img为none"
   ]
  },
  {
   "cell_type": "code",
   "execution_count": 3,
   "metadata": {},
   "outputs": [
    {
     "name": "stdout",
     "output_type": "stream",
     "text": [
      "[[247 247 247 ..., 251 250 248]\n",
      " [247 247 247 ..., 251 249 248]\n",
      " [247 247 247 ..., 250 249 247]\n",
      " ..., \n",
      " [225 225 224 ..., 224 224 224]\n",
      " [223 223 224 ..., 221 221 221]\n",
      " [216 218 220 ..., 234 236 236]]\n"
     ]
    }
   ],
   "source": [
    "img = cv2.imread('../images/yaorenmao.jpeg',0)\n",
    "print(img)"
   ]
  },
  {
   "cell_type": "markdown",
   "metadata": {},
   "source": [
    "## 图像显示"
   ]
  },
  {
   "cell_type": "code",
   "execution_count": 4,
   "metadata": {
    "collapsed": true
   },
   "outputs": [],
   "source": [
    "cv2.imshow('window title',img)\n",
    "cv2.waitKey(0)# 在特定的几毫秒内等待按键，并返回该键的ASCII码，没有按键，返回-1，设为0就一直等待\n",
    "#按任意键返回\n",
    "#CV.distroyWindow(窗口名)删除特定窗口\n",
    "cv2.destroyAllWindows()"
   ]
  },
  {
   "cell_type": "code",
   "execution_count": 6,
   "metadata": {},
   "outputs": [],
   "source": [
    "cv2.imshow('miao~~~',img)\n",
    "k=cv2.waitKey(0)\n",
    "if k==27&0xFF:    # wait for esc, 0xFF for 64bit system\n",
    "    cv2.destroyAllWindows()\n",
    "elif k==ord('s'):\n",
    "    cv2.imwrite('../images/keysave.jpeg',img)\n",
    "    cv2.destroyAllWindows()\n",
    "        "
   ]
  },
  {
   "cell_type": "markdown",
   "metadata": {},
   "source": [
    "#### "
   ]
  },
  {
   "cell_type": "markdown",
   "metadata": {},
   "source": [
    "## 创建窗口\n",
    "    在这种情况下，可以调整窗口大小再显示图像"
   ]
  },
  {
   "cell_type": "code",
   "execution_count": 6,
   "metadata": {},
   "outputs": [],
   "source": [
    "cv2.namedWindow('image',cv2.WINDOW_NORMAL)# 默认值是cv2.WINDOW_AUTOSIZE\n",
    "cv2.imshow('title',img)\n",
    "cv2.waitKey(0)\n",
    "cv2.destroyAllWindows()"
   ]
  },
  {
   "cell_type": "markdown",
   "metadata": {},
   "source": [
    "# # 保存图像 "
   ]
  },
  {
   "cell_type": "code",
   "execution_count": null,
   "metadata": {
    "collapsed": true
   },
   "outputs": [],
   "source": [
    "CV2.imwrite('../images/image_name.jpeg',img)"
   ]
  }
 ],
 "metadata": {
  "kernelspec": {
   "display_name": "Python 3",
   "language": "python",
   "name": "python3"
  },
  "language_info": {
   "codemirror_mode": {
    "name": "ipython",
    "version": 3
   },
   "file_extension": ".py",
   "mimetype": "text/x-python",
   "name": "python",
   "nbconvert_exporter": "python",
   "pygments_lexer": "ipython3",
   "version": "3.6.3"
  }
 },
 "nbformat": 4,
 "nbformat_minor": 2
}
