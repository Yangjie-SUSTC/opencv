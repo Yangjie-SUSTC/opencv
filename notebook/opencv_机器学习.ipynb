{
 "cells": [
  {
   "cell_type": "markdown",
   "metadata": {},
   "source": [
    "## KNN"
   ]
  },
  {
   "cell_type": "code",
   "execution_count": 5,
   "metadata": {},
   "outputs": [
    {
     "name": "stdout",
     "output_type": "stream",
     "text": [
      "result:  [[0.]] \n",
      " neighbours:  [[1. 0. 0.]] \n",
      " distance:  [[101. 104. 337.]]\n"
     ]
    },
    {
     "data": {
      "image/png": "[encoded data removed]",
      "text/plain": [
       "<Figure size 432x288 with 1 Axes>"
      ]
     },
     "metadata": {},
     "output_type": "display_data"
    }
   ],
   "source": [
    "import numpy as np\n",
    "from  matplotlib import pyplot as plt \n",
    "import cv2\n",
    "# Feature set containing (x,y) values of 25 known/training data\n",
    "trainData = np.random.randint(0,100,(25,2)).astype(np.float32)\n",
    "# Labels each one either Red or Blue with numbers 0 and 1\n",
    "responses = np.random.randint(0,2,(25,1)).astype(np.float32)\n",
    "# Take Red families and plot them\n",
    "red = trainData[responses.ravel()==0]\n",
    "plt.scatter(red[:,0],red[:,1],80,'r','^')\n",
    "# Take Blue families and plot them\n",
    "blue = trainData[responses.ravel()==1]\n",
    "plt.scatter(blue[:,0],blue[:,1],80,'b','s')\n",
    "\n",
    "newcomer = np.random.randint(0,100,(1,2)).astype(np.float32)\n",
    "plt.scatter(newcomer[:,0],newcomer[:,1],80,'g','o')\n",
    "knn = cv2.ml.KNearest_create()\n",
    "\n",
    "knn.train(trainData, cv2.ml.ROW_SAMPLE,responses)\n",
    "ret, results, neighbours ,dist = knn.findNearest(newcomer, 3)\n",
    "print(\"result: \", results,\"\\n\",\"neighbours: \", neighbours,\"\\n\",\"distance: \", dist) \n",
    "plt.show()"
   ]
  },
  {
   "cell_type": "code",
   "execution_count": 13,
   "metadata": {},
   "outputs": [],
   "source": [
    "# prdict many dots\n",
    "newcomers = np.random.randint(0,100,(10,2)).astype(np.float32)\n",
    "ret, results, neighbours ,dist = knn.findNearest(newcomer, 3)"
   ]
  },
  {
   "cell_type": "markdown",
   "metadata": {},
   "source": [
    "### kNN 手写数字 OCR"
   ]
  },
  {
   "cell_type": "code",
   "execution_count": 73,
   "metadata": {},
   "outputs": [
    {
     "name": "stdout",
     "output_type": "stream",
     "text": [
      "Accuracy is 91.64 %\n"
     ]
    }
   ],
   "source": [
    "img = cv2.imread('../samples/data/digits.png')\n",
    "gray = cv2.cvtColor(img,cv2.COLOR_BGR2GRAY)\n",
    "# Now we split the image to 5000 cells, each 20x20 size\n",
    "cells = [np.hsplit(row,100) for row in np.vsplit(gray,50)] # 横切50份，纵切100份\n",
    "# Make it into a Numpy array. It size will be (50,100,20,20)\n",
    "x = np.array(cells)\n",
    "# Now we prepare train_data and test_data.\n",
    "train = x[:,:50].reshape(-1,400).astype(np.float32) # Size = (2500,400) # 前50份训练集\n",
    "test = x[:,50:100].reshape(-1,400).astype(np.float32) # Size = (2500,400)# 后50份测试集\n",
    "\n",
    "# Create labels for train and test data\n",
    "k = np.arange(10)\n",
    "train_labels = np.repeat(k,250)[:,np.newaxis]\n",
    "test_labels = train_labels.copy()\n",
    "\n",
    "# Initiate kNN, train the data, then test it with test data for k=1\n",
    "knn = cv2.ml.KNearest_create()\n",
    "\n",
    "knn.train(train, cv2.ml.ROW_SAMPLE,train_labels)\n",
    "ret, results, neighbours ,dist = knn.findNearest(test, 3)\n",
    "\n",
    "matches = results==test_labels\n",
    "correct = np.count_nonzero(matches)\n",
    "accuracy = correct*100.0/results.size\n",
    "print ('Accuracy is {} %'.format(accuracy))"
   ]
  },
  {
   "cell_type": "code",
   "execution_count": 77,
   "metadata": {},
   "outputs": [
    {
     "data": {
      "text/plain": [
       "(2500, 1)"
      ]
     },
     "execution_count": 77,
     "metadata": {},
     "output_type": "execute_result"
    }
   ],
   "source": [
    "train_labels.shape"
   ]
  },
  {
   "cell_type": "code",
   "execution_count": 38,
   "metadata": {},
   "outputs": [
    {
     "name": "stdout",
     "output_type": "stream",
     "text": [
      "['train', 'train_labels']\n"
     ]
    }
   ],
   "source": [
    "np.savez('../model_data/knn_data.npz',train=np.uint8(train), train_labels=np.uint8(train_labels)) \n",
    "# 以np.uint8保存能比 float 减小内存，因为我们所保存的数据都在uint8范围内， 在使用时转换为 float就行\n",
    "# Now load the data\n",
    "with np.load('../model_data/knn_data.npz') as data:\n",
    "    print (data.files)\n",
    "    train = data['train']\n",
    "    train_labels = data['train_labels']"
   ]
  },
  {
   "cell_type": "markdown",
   "metadata": {},
   "source": [
    "#### 英文字母的 OCR"
   ]
  },
  {
   "cell_type": "code",
   "execution_count": 41,
   "metadata": {},
   "outputs": [
    {
     "name": "stdout",
     "output_type": "stream",
     "text": [
      "Accuracy is 93.06 %\n"
     ]
    }
   ],
   "source": [
    "# Load the data, converters convert the letter to a number\n",
    "data= np.loadtxt('../samples/data/letter-recognition.data', dtype= 'float32', delimiter = ',',converters= {0: lambda ch: ord(ch)-ord('A')})\n",
    "# split the data to two, 10000 each for train and test\n",
    "train, test = np.vsplit(data,2)\n",
    "# split trainData and testData to features and responses\n",
    "responses, trainData = np.hsplit(train,[1])\n",
    "labels, testData = np.hsplit(test,[1])\n",
    "# Initiate the kNN, classify, measure accuracy.\n",
    "\n",
    "knn = cv2.ml.KNearest_create()\n",
    "knn.train(trainData,  cv2.ml.ROW_SAMPLE,responses)\n",
    "ret, result, neighbours, dist = knn.findNearest(testData, k=5)\n",
    "correct = np.count_nonzero(result == labels)\n",
    "accuracy = correct*100.0/test.shape[0]\n",
    "print  ('Accuracy is {} %'.format(accuracy))"
   ]
  },
  {
   "cell_type": "markdown",
   "metadata": {},
   "source": [
    "##  支持向量机"
   ]
  },
  {
   "cell_type": "code",
   "execution_count": 177,
   "metadata": {},
   "outputs": [
    {
     "name": "stdout",
     "output_type": "stream",
     "text": [
      "\n",
      "SVM and KNearest digit recognition.\n",
      "\n",
      "Sample loads a dataset of handwritten digits from '../data/digits.png'.\n",
      "Then it trains a SVM and KNearest classifiers on it and evaluates\n",
      "their accuracy.\n",
      "\n",
      "Following preprocessing is applied to the dataset:\n",
      " - Moment-based image deskew (see deskew())\n",
      " - Digit images are split into 4 10x10 cells and 16-bin\n",
      "   histogram of oriented gradients is computed for each\n",
      "   cell\n",
      " - Transform histograms to space with Hellinger metric (see [1] (RootSIFT))\n",
      "\n",
      "\n",
      "[1] R. Arandjelovic, A. Zisserman\n",
      "    \"Three things everyone should know to improve object retrieval\"\n",
      "    http://www.robots.ox.ac.uk/~vgg/publications/2012/Arandjelovic12/arandjelovic12.pdf\n",
      "\n",
      "Usage:\n",
      "   digits.py\n",
      "\n",
      "loading \"../samples/data/digits.png\" ...\n",
      "preprocessing...\n",
      "training KNearest...\n",
      "error: 3.40 %\n",
      "confusion matrix:\n",
      "[[45  0  0  0  0  0  0  0  0  0]\n",
      " [ 0 57  0  0  0  0  0  0  0  0]\n",
      " [ 0  0 59  1  0  0  0  0  1  0]\n",
      " [ 0  0  0 43  0  0  0  1  0  0]\n",
      " [ 0  0  0  0 38  0  2  0  0  0]\n",
      " [ 0  0  0  2  0 48  0  0  1  0]\n",
      " [ 0  1  0  0  0  0 51  0  0  0]\n",
      " [ 0  0  1  0  0  0  0 54  0  0]\n",
      " [ 0  0  0  0  0  1  0  0 46  0]\n",
      " [ 1  1  0  1  1  0  0  0  2 42]]\n",
      "training SVM...\n",
      "error: 1.80 %\n",
      "confusion matrix:\n",
      "[[45  0  0  0  0  0  0  0  0  0]\n",
      " [ 0 57  0  0  0  0  0  0  0  0]\n",
      " [ 0  0 59  2  0  0  0  0  0  0]\n",
      " [ 0  0  0 43  0  0  0  1  0  0]\n",
      " [ 0  0  0  0 40  0  0  0  0  0]\n",
      " [ 0  0  0  1  0 50  0  0  0  0]\n",
      " [ 0  0  0  0  1  0 51  0  0  0]\n",
      " [ 0  0  1  0  0  0  0 54  0  0]\n",
      " [ 0  0  0  0  0  0  0  0 47  0]\n",
      " [ 0  1  0  1  0  0  0  0  1 45]]\n",
      "saving SVM as \"digits_svm.dat\"...\n"
     ]
    }
   ],
   "source": [
    "#!/usr/bin/env python\n",
    "\n",
    "'''\n",
    "SVM and KNearest digit recognition.\n",
    "\n",
    "Sample loads a dataset of handwritten digits from '../data/digits.png'.\n",
    "Then it trains a SVM and KNearest classifiers on it and evaluates\n",
    "their accuracy.\n",
    "\n",
    "Following preprocessing is applied to the dataset:\n",
    " - Moment-based image deskew (see deskew())\n",
    " - Digit images are split into 4 10x10 cells and 16-bin\n",
    "   histogram of oriented gradients is computed for each\n",
    "   cell\n",
    " - Transform histograms to space with Hellinger metric (see [1] (RootSIFT))\n",
    "\n",
    "\n",
    "[1] R. Arandjelovic, A. Zisserman\n",
    "    \"Three things everyone should know to improve object retrieval\"\n",
    "    http://www.robots.ox.ac.uk/~vgg/publications/2012/Arandjelovic12/arandjelovic12.pdf\n",
    "\n",
    "Usage:\n",
    "   digits.py\n",
    "'''\n",
    "\n",
    "\n",
    "# Python 2/3 compatibility\n",
    "from __future__ import print_function\n",
    "\n",
    "# built-in modules\n",
    "from multiprocessing.pool import ThreadPool\n",
    "\n",
    "import cv2\n",
    "\n",
    "import numpy as np\n",
    "from numpy.linalg import norm\n",
    "\n",
    "# local modules\n",
    "#from common import clock, mosaic\n",
    "\n",
    "\n",
    "\n",
    "SZ = 20 # size of each digit is SZ x SZ\n",
    "CLASS_N = 10\n",
    "DIGITS_FN = '../samples/data/digits.png'\n",
    "\n",
    "def split2d(img, cell_size, flatten=True):\n",
    "    h, w = img.shape[:2]\n",
    "    sx, sy = cell_size\n",
    "    cells = [np.hsplit(row, w//sx) for row in np.vsplit(img, h//sy)]\n",
    "    cells = np.array(cells)\n",
    "    if flatten:\n",
    "        cells = cells.reshape(-1, sy, sx)\n",
    "    return cells\n",
    "\n",
    "def load_digits(fn):\n",
    "    print('loading \"%s\" ...' % fn)\n",
    "    digits_img = cv2.imread(fn, 0)\n",
    "    digits = split2d(digits_img, (SZ, SZ))\n",
    "    labels = np.repeat(np.arange(CLASS_N), len(digits)/CLASS_N)\n",
    "    return digits, labels\n",
    "\n",
    "def deskew(img):\n",
    "    m = cv2.moments(img)\n",
    "    if abs(m['mu02']) < 1e-2:\n",
    "        return img.copy()\n",
    "    skew = m['mu11']/m['mu02']\n",
    "    M = np.float32([[1, skew, -0.5*SZ*skew], [0, 1, 0]])\n",
    "    img = cv2.warpAffine(img, M, (SZ, SZ), flags=cv2.WARP_INVERSE_MAP | cv2.INTER_LINEAR)\n",
    "    return img\n",
    "\n",
    "class StatModel(object):\n",
    "    def load(self, fn):\n",
    "        self.model.load(fn)  # Known bug: https://github.com/Itseez/opencv/issues/4969\n",
    "    def save(self, fn):\n",
    "        self.model.save(fn)\n",
    "\n",
    "class KNearest(StatModel):\n",
    "    def __init__(self, k = 3):\n",
    "        self.k = k\n",
    "        self.model = cv2.ml.KNearest_create()\n",
    "\n",
    "    def train(self, samples, responses):\n",
    "        self.model.train(samples, cv2.ml.ROW_SAMPLE, responses)\n",
    "\n",
    "    def predict(self, samples):\n",
    "        retval, results, neigh_resp, dists = self.model.findNearest(samples, self.k)\n",
    "        return results.ravel()\n",
    "\n",
    "class SVM(StatModel):\n",
    "    def __init__(self, C = 1, gamma = 0.5):\n",
    "        self.model = cv2.ml.SVM_create()\n",
    "        self.model.setGamma(gamma)\n",
    "        self.model.setC(C)\n",
    "        self.model.setKernel(cv2.ml.SVM_RBF)\n",
    "        self.model.setType(cv2.ml.SVM_C_SVC)\n",
    "\n",
    "    def train(self, samples, responses):\n",
    "        self.model.train(samples, cv2.ml.ROW_SAMPLE, responses)\n",
    "\n",
    "    def predict(self, samples):\n",
    "        return self.model.predict(samples)[1].ravel()\n",
    "\n",
    "\n",
    "def evaluate_model(model, digits, samples, labels):\n",
    "    resp = model.predict(samples)\n",
    "    err = (labels != resp).mean()\n",
    "    print('error: %.2f %%' % (err*100))\n",
    "\n",
    "    confusion = np.zeros((10, 10), np.int32)\n",
    "    for i, j in zip(labels, resp):\n",
    "        confusion[int(i), int(j)] += 1\n",
    "    print('confusion matrix:')\n",
    "    print(confusion)\n",
    "    #print()\n",
    "'''\n",
    "    vis = []\n",
    "    for img, flag in zip(digits, resp == labels):\n",
    "        img = cv2.cvtColor(img, cv2.COLOR_GRAY2BGR)\n",
    "        if not flag:\n",
    "            img[...,:2] = 0\n",
    "        vis.append(img)\n",
    "    return mosaic(25, vis)\n",
    "'''\n",
    "def preprocess_simple(digits):\n",
    "    return np.float32(digits).reshape(-1, SZ*SZ) / 255.0\n",
    "\n",
    "def preprocess_hog(digits):\n",
    "    samples = []\n",
    "    for img in digits:\n",
    "        gx = cv2.Sobel(img, cv2.CV_32F, 1, 0)\n",
    "        gy = cv2.Sobel(img, cv2.CV_32F, 0, 1)\n",
    "        mag, ang = cv2.cartToPolar(gx, gy)\n",
    "        bin_n = 16\n",
    "        bin = np.int32(bin_n*ang/(2*np.pi))\n",
    "        bin_cells = bin[:10,:10], bin[10:,:10], bin[:10,10:], bin[10:,10:]\n",
    "        mag_cells = mag[:10,:10], mag[10:,:10], mag[:10,10:], mag[10:,10:]\n",
    "        hists = [np.bincount(b.ravel(), m.ravel(), bin_n) for b, m in zip(bin_cells, mag_cells)]\n",
    "        hist = np.hstack(hists)\n",
    "\n",
    "        # transform to Hellinger kernel\n",
    "        eps = 1e-7\n",
    "        hist /= hist.sum() + eps\n",
    "        hist = np.sqrt(hist)\n",
    "        hist /= norm(hist) + eps\n",
    "\n",
    "        samples.append(hist)\n",
    "    return np.float32(samples)\n",
    "\n",
    "\n",
    "if __name__ == '__main__':\n",
    "    print(__doc__)\n",
    "\n",
    "    digits, labels = load_digits(DIGITS_FN)\n",
    "\n",
    "    print('preprocessing...')\n",
    "    # shuffle digits\n",
    "    rand = np.random.RandomState(321)\n",
    "    shuffle = rand.permutation(len(digits))\n",
    "    digits, labels = digits[shuffle], labels[shuffle]\n",
    "\n",
    "    digits2 = list(map(deskew, digits))\n",
    "    samples = preprocess_hog(digits2)\n",
    "\n",
    "    train_n = int(0.9*len(samples))\n",
    "    #cv2.imshow('test set', mosaic(25, digits[train_n:]))\n",
    "    digits_train, digits_test = np.split(digits2, [train_n])\n",
    "    samples_train, samples_test = np.split(samples, [train_n])\n",
    "    labels_train, labels_test = np.split(labels, [train_n])\n",
    "\n",
    "\n",
    "    print('training KNearest...')\n",
    "    model = KNearest(k=4)\n",
    "    model.train(samples_train, labels_train)\n",
    "    evaluate_model(model, digits_test, samples_test, labels_test)\n",
    "    #cv2.imshow('KNearest test', vis)\n",
    "\n",
    "    print('training SVM...')\n",
    "    model = SVM(C=2.67, gamma=5.383)\n",
    "    model.train(samples_train, labels_train)\n",
    "    evaluate_model(model, digits_test, samples_test, labels_test)\n",
    "    #cv2.imshow('SVM test', vis)\n",
    "    print('saving SVM as \"digits_svm.dat\"...')\n",
    "    model.save('digits_svm.dat')\n",
    "\n",
    "    cv2.waitKey(0)\n"
   ]
  },
  {
   "cell_type": "markdown",
   "metadata": {},
   "source": [
    "##  K 值聚类\n",
    "**每个点到相应重心的距离的平方和,  labels,  聚类中心数组=  \n",
    "  cv2.kmeans(  \n",
    "  np.float32(samples),  \n",
    "  nclusters(K),   \n",
    "  bestLabels Input/output integer array that stores the cluster indices for every sample,   \n",
    "  criteria=终止迭代条件，  \n",
    "  attempts=使用不同的起始标记来执行算法的次数，  \n",
    "  flags=起始重心) **  \n",
    "    \n",
    "    \n",
    " criteria=（typw， max_iter， epsilon）  \n",
    "         type:  \n",
    "                  – cv2.TERM_CRITERIA_EPS 只有精确度 epsilon 满足是停止迭代。  \n",
    "                    – cv2.TERM_CRITERIA_MAX_ITER 当迭代次数超过阈值时停止迭代。  \n",
    "                    – cv2.TERM_CRITERIA_EPS + cv2.TERM_CRITERIA_MAX_ITER上面的任何一个条件满足时停止迭代。  \n",
    "                    \n",
    "• max_iter 表示最大迭代次数。\n",
    "• epsilon 精确度阈值。"
   ]
  },
  {
   "cell_type": "code",
   "execution_count": 179,
   "metadata": {},
   "outputs": [
    {
     "data": {
      "image/png": "[encoded data removed]",
      "text/plain": [
       "<Figure size 432x288 with 1 Axes>"
      ]
     },
     "metadata": {},
     "output_type": "display_data"
    }
   ],
   "source": [
    "#  仅有一个特征的数据\n",
    "x = np.random.randint(25,100,25)\n",
    "y = np.random.randint(175,255,25)\n",
    "z = np.hstack((x,y)) #    x 轴上两个集中的分布\n",
    "z = z.reshape((50,1))\n",
    "z = np.float32(z)\n",
    "plt.hist(z,256,[0,256]);plt.show()"
   ]
  },
  {
   "cell_type": "code",
   "execution_count": 194,
   "metadata": {},
   "outputs": [
    {
     "data": {
      "image/png": "[encoded data removed]",
      "text/plain": [
       "<Figure size 432x288 with 1 Axes>"
      ]
     },
     "metadata": {},
     "output_type": "display_data"
    }
   ],
   "source": [
    "# Define criteria = ( type, max_iter = 10 , epsilon = 1.0 )\n",
    "criteria = (cv2.TERM_CRITERIA_EPS + cv2.TERM_CRITERIA_MAX_ITER, 10, 1.0)\n",
    "# Set flags (Just to avoid line break in the code)\n",
    "flags = cv2.KMEANS_RANDOM_CENTERS\n",
    "# Apply KMeans\n",
    "compactness,labels,centers = cv2.kmeans(z,2,None,criteria,10,flags)\n",
    "\n",
    "A = z[labels==0]\n",
    "B = z[labels==1]\n",
    "\n",
    "# Now plot 'A' in red, 'B' in blue, 'centers' in yellow\n",
    "plt.hist(A,256,[0,256],color = 'r')\n",
    "plt.hist(B,256,[0,256],color = 'b')\n",
    "plt.hist(centers,50,[0,256],color = 'y');\n",
    "plt.show()\n",
    "\n"
   ]
  },
  {
   "cell_type": "code",
   "execution_count": 198,
   "metadata": {},
   "outputs": [
    {
     "data": {
      "image/png": "[encoded data removed]",
      "text/plain": [
       "<Figure size 432x288 with 1 Axes>"
      ]
     },
     "metadata": {},
     "output_type": "display_data"
    }
   ],
   "source": [
    "## 多个特征的数据  每个特征占一列     \n",
    "X = np.random.randint(25,50,(25,2))\n",
    "Y = np.random.randint(60,85,(25,2))\n",
    "Z = np.vstack((X,Y))\n",
    "# convert to np.float32\n",
    "Z = np.float32(Z)\n",
    "# define criteria and apply kmeans()\n",
    "criteria = (cv2.TERM_CRITERIA_EPS + cv2.TERM_CRITERIA_MAX_ITER, 10, 1.0)\n",
    "ret,label,center=cv2.kmeans(Z,2,None,criteria,10,cv2.KMEANS_RANDOM_CENTERS)\n",
    "# Now separate the data, Note the flatten()\n",
    "A = Z[label.ravel()==0]\n",
    "B = Z[label.ravel()==1]\n",
    "# Plot the data\n",
    "plt.scatter(A[:,0],A[:,1])\n",
    "plt.scatter(B[:,0],B[:,1],c = 'r')\n",
    "plt.scatter(center[:,0],center[:,1],s = 80,c = 'y', marker = 's')\n",
    "plt.xlabel('Height'),plt.ylabel('Weight')\n",
    "plt.show()"
   ]
  },
  {
   "cell_type": "markdown",
   "metadata": {},
   "source": [
    "#### 颜色量化\n",
    "减少图片中颜色数目， 能减少内存，适配低端设备，最终图片只有指定的几种位于聚类中心的颜色  \n",
    "\n",
    "用聚类中心值替换与其同组的像素值，这样结果图片就只含有指定数目的颜色了\n",
    "\n",
    "**会出现油画效果**"
   ]
  },
  {
   "cell_type": "code",
   "execution_count": 207,
   "metadata": {},
   "outputs": [],
   "source": [
    "img = cv2.imread('../images/xueyating.jpg')\n",
    "Z = img.reshape((-1,3))\n",
    "# convert to np.float32\n",
    "Z = np.float32(Z)\n",
    "# define criteria, number of clusters(K) and apply kmeans()\n",
    "criteria = (cv2.TERM_CRITERIA_EPS + cv2.TERM_CRITERIA_MAX_ITER, 10, 1.0)\n",
    "K = 8  # 只保留八种颜色\n",
    "ret,label,center=cv2.kmeans(Z,K,None,criteria,10,cv2.KMEANS_RANDOM_CENTERS)\n",
    "# Now convert back into uint8, and make original image\n",
    "center = np.uint8(center)\n",
    "res = center[label.flatten()]\n",
    "res2 = res.reshape((img.shape))\n",
    "cv2.namedWindow('8 color yanselianghua',cv2.WINDOW_NORMAL)# 默认值是cv2.WINDOW_AUTOSIZE\n",
    "cv2.imshow('8 color yanselianghua',res2) # 这里的title需要与之前创建的窗口名字一致，不然会再新建一个窗口\n",
    "cv2.waitKey(0)\n",
    "cv2.destroyAllWindows()\n"
   ]
  },
  {
   "cell_type": "markdown",
   "metadata": {},
   "source": [
    "### 计算摄影学\n",
    "#### 图像去噪\n",
    "\n",
    "在图像中找到相似的窗口，求所有窗口的平均值并取代目标的值----------**非局部平均值去噪**  \n",
    "对于彩色图像，要先转换到 CIELAB 颜色空间，然后对 L 和 AB 成分分别去噪\n",
    "\n",
    "OpenCV 提供了这种技术的四个变本。\n",
    "1. cv2.fastNlMeansDenoising() 使用对象为灰度图。\n",
    "2. cv2.fastNlMeansDenoisingColored() 使用对象为彩色图。\n",
    "3. cv2.fastNlMeansDenoisingMulti() 适用于短时间的图像序列（灰度图像）\n",
    "4. cv2.fastNlMeansDenoisingColoredMulti() 适用于短时间的图像序列（彩色图像） \n",
    "\n",
    "共同参数有：\n",
    "\n",
    "- h : 决定过滤器强度。 h 值高可以很好的去除噪声，但也会把图像的细节抹去。 (取 10 的效果不错)\n",
    "- hForColorComponents : 与 h 相同，但使用与彩色图像。（与 h 相同）\n",
    "- templateWindowSize : 奇数。 (推荐值为 7)\n",
    "-  searchWindowSize : 奇数。 (推荐值为 21)"
   ]
  },
  {
   "cell_type": "code",
   "execution_count": 212,
   "metadata": {},
   "outputs": [],
   "source": [
    "img = cv2.imread('../images/xueyating.jpg')\n",
    "dst = cv2.fastNlMeansDenoisingColored(img,None,10,10,7,21)\n",
    "ima=np.hstack((img,dst))\n",
    "wname='fastNlMeansDenoisingColored'\n",
    "cv2.namedWindow(wname,cv2.WINDOW_NORMAL)# 默认值是cv2.WINDOW_AUTOSIZE\n",
    "cv2.imshow(wname,ima) # 这里的title需要与之前创建的窗口名字一致，不然会再新建一个窗口\n",
    "cv2.waitKey(0)\n",
    "cv2.destroyAllWindows()\n"
   ]
  },
  {
   "cell_type": "markdown",
   "metadata": {},
   "source": [
    "#### 视频\n",
    "cv2.fastNlMeansDenoisingMulti(noisy_img, 需要去噪帧, 用于去噪的相邻帧数（奇数）, None, h, templateWindowSize, WindowSize)"
   ]
  },
  {
   "cell_type": "code",
   "execution_count": 243,
   "metadata": {},
   "outputs": [],
   "source": [
    "cap = cv2.VideoCapture('../samples/data/768x576.avi')\n",
    "# create a list of first 5 frames\n",
    "img = [cap.read()[1] for i in range(5)]\n",
    "# convert all to grayscale\n",
    "gray = [cv2.cvtColor(i, cv2.COLOR_BGR2GRAY) for i in img]\n",
    "# convert all to float64\n",
    "gray = [np.float64(i) for i in gray]\n",
    "# create a noise of variance 25\n",
    "noise = np.random.randn(*gray[1].shape)*10\n",
    "# Add this noise to images\n",
    "noisy = [i+noise for i in gray]\n",
    "# Convert back to uint8\n",
    "noisy = [np.uint8(np.clip(i,0,255)) for i in noisy]\n",
    "# Denoise 3rd frame considering all the 5 frames\n",
    "dst = cv2.fastNlMeansDenoisingMulti(noisy, 2, 5, None, 10, 7, 21)\n",
    "ima=np.hstack((np.uint8(gray[2]),np.uint8(noisy[2]),np.uint8(dst)))\n",
    "wname='original   noisy    denoise'\n",
    "cv2.namedWindow(wname,cv2.WINDOW_NORMAL)# 默认值是cv2.WINDOW_AUTOSIZE\n",
    "cv2.imshow(wname,ima) # 这里的title需要与之前创建的窗口名字一致，不然会再新建一个窗口\n",
    "cv2.waitKey(0)\n",
    "cv2.destroyAllWindows()\n"
   ]
  },
  {
   "cell_type": "markdown",
   "metadata": {},
   "source": [
    "## 图像修补\n",
    "1. cv2.inpaint()   \n",
    "从这个区域的边界开始向区域内部慢慢前进，首先填充区域边界像素, 选取待修补像素周\n",
    "围的一个小的邻域，使用这个邻域内的归一化加权更新待修复像素， 再逐步向内推进。 其中对靠近正常边界像素点和在轮廓上的像素点，靠近带修复点的像素点给予更高的权重\n",
    "2. cv2.INPAINT_NS  \n",
    "沿着正常区域的边界向退化区域的前进，匹配待修复区域中的梯度向量来延伸等光强线\n"
   ]
  },
  {
   "cell_type": "code",
   "execution_count": null,
   "metadata": {},
   "outputs": [],
   "source": [
    "img = cv2.imread('../images/xueyating.jpg')\n",
    "mask=np.ones(img.shape)\n",
    "mask[2500:2655,1100:1210]=0\n",
    "mask[700:955,800:1100]=0\n",
    "mask=np.uint8(mask)\n",
    "timg=img*mask\n",
    "dst1 = cv2.inpaint(img,mask[:,:,1],21,cv2.INPAINT_TELEA)\n",
    "dst2 = cv2.inpaint(img,mask[:,:,1],21,cv2.INPAINT_NS)\n"
   ]
  },
  {
   "cell_type": "code",
   "execution_count": 266,
   "metadata": {},
   "outputs": [],
   "source": [
    "ima1=np.hstack((img,timg))\n",
    "ima2=np.hstack((dst1,dst2))\n",
    "ima=np.vstack((ima1,ima2))\n",
    "wname='INPAINT_TELEA,   cv2.INPAINT_NS '\n",
    "cv2.namedWindow(wname,cv2.WINDOW_NORMAL)# 默认值是cv2.WINDOW_AUTOSIZE\n",
    "cv2.imshow(wname,ima) # 这里的title需要与之前创建的窗口名字一致，不然会再新建一个窗口\n",
    "cv2.waitKey(0)\n",
    "cv2.destroyAllWindows()\n"
   ]
  },
  {
   "cell_type": "markdown",
   "metadata": {},
   "source": [
    "##  对象检测\n",
    "Haar 级联检测人脸\n",
    "加载训练好的分类器来根据灰度图像检测人脸位置"
   ]
  },
  {
   "cell_type": "code",
   "execution_count": 6,
   "metadata": {},
   "outputs": [],
   "source": [
    "face_cascade = cv2.CascadeClassifier('../samples/haarcascades/haarcascade_frontalface_default.xml')\n",
    "eye_cascade = cv2.CascadeClassifier('../samples/haarcascades/haarcascade_eye.xml')\n",
    "img = cv2.imread('../images/xueyating.jpg')\n",
    "gray = cv2.cvtColor(img, cv2.COLOR_BGR2GRAY)\n",
    "\n",
    "faces = face_cascade.detectMultiScale(gray, 1.3, 5)\n",
    "for (x,y,w,h) in faces:\n",
    "    img = cv2.rectangle(img,(x,y),(x+w,y+h),(255,0,0),2)\n",
    "    roi_gray = gray[y:y+h, x:x+w]\n",
    "    roi_color = img[y:y+h, x:x+w]\n",
    "    eyes = eye_cascade.detectMultiScale(roi_gray)\n",
    "    for (ex,ey,ew,eh) in eyes:\n",
    "        cv2.rectangle(roi_color,(ex,ey),(ex+ew,ey+eh),(0,255,0),2)\n",
    "\n",
    "wname='face detect '\n",
    "cv2.namedWindow(wname,cv2.WINDOW_NORMAL)# 默认值是cv2.WINDOW_AUTOSIZE\n",
    "cv2.imshow(wname,img) # 这里的title需要与之前创建的窗口名字一致，不然会再新建一个窗口\n",
    "cv2.waitKey(0)\n",
    "cv2.destroyAllWindows()"
   ]
  },
  {
   "cell_type": "code",
   "execution_count": null,
   "metadata": {},
   "outputs": [],
   "source": []
  }
 ],
 "metadata": {
  "kernelspec": {
   "display_name": "Python 3",
   "language": "python",
   "name": "python3"
  }
 },
 "nbformat": 4,
 "nbformat_minor": 2
}
