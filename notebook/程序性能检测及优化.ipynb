{
 "cells": [
  {
   "cell_type": "markdown",
   "metadata": {},
   "source": [
    "### 检测程序效率\n",
    "\n",
    "**cv2.getTickCount** -------> 参考点到该时刻的时钟数  \n",
    "在一个函数体前后调用，返回函数执行时间， 类似 tic, toc.  \n",
    "**cv2.getTickFrequency** ---------> 时钟频率  hz\n",
    "``` python\n",
    "e1 = cv2.getTickCount()\n",
    "# your code execution\n",
    "e2 = cv2.getTickCount()\n",
    "time = (e2 - e1)/ cv2.getTickFrequency()\n",
    "```"
   ]
  },
  {
   "cell_type": "code",
   "execution_count": 1,
   "metadata": {},
   "outputs": [],
   "source": [
    "import cv2\n",
    "import numpy as np\n",
    "import copy as cp\n",
    "from matplotlib import pyplot as plt"
   ]
  },
  {
   "cell_type": "code",
   "execution_count": 2,
   "metadata": {},
   "outputs": [
    {
     "name": "stdout",
     "output_type": "stream",
     "text": [
      "Help on built-in function medianBlur:\n",
      "\n",
      "medianBlur(...)\n",
      "    medianBlur(src, ksize[, dst]) -> dst\n",
      "    .   @brief Blurs an image using the median filter.\n",
      "    .   \n",
      "    .   The function smoothes an image using the median filter with the \\f$\\texttt{ksize} \\times\n",
      "    .   \\texttt{ksize}\\f$ aperture. Each channel of a multi-channel image is processed independently.\n",
      "    .   In-place operation is supported.\n",
      "    .   \n",
      "    .   @note The median filter uses #BORDER_REPLICATE internally to cope with border pixels, see #BorderTypes\n",
      "    .   \n",
      "    .   @param src input 1-, 3-, or 4-channel image; when ksize is 3 or 5, the image depth should be\n",
      "    .   CV_8U, CV_16U, or CV_32F, for larger aperture sizes, it can only be CV_8U.\n",
      "    .   @param dst destination array of the same size and type as src.\n",
      "    .   @param ksize aperture linear size; it must be odd and greater than 1, for example: 3, 5, 7 ...\n",
      "    .   @sa  bilateralFilter, blur, boxFilter, GaussianBlur\n",
      "\n"
     ]
    }
   ],
   "source": [
    "help(cv2.medianBlur)"
   ]
  },
  {
   "cell_type": "code",
   "execution_count": 9,
   "metadata": {},
   "outputs": [
    {
     "name": "stdout",
     "output_type": "stream",
     "text": [
      "median blur use 3.0556433539563406 s\n"
     ]
    }
   ],
   "source": [
    "img1=cv2.imread('../images/xxb.jpg')\n",
    "ima1=cp.deepcopy(img1)\n",
    "e1=cv2.getTickCount()\n",
    "for ksize in range(5,49,2):\n",
    "    ima1=cv2.medianBlur(ima1,ksize)\n",
    "e2=cv2.getTickCount()\n",
    "t=(e2-e1)/cv2.getTickFrequency()\n",
    "print('median blur use {} s'.format(t))\n"
   ]
  },
  {
   "cell_type": "code",
   "execution_count": 19,
   "metadata": {},
   "outputs": [
    {
     "name": "stdout",
     "output_type": "stream",
     "text": [
      "median blur use 3.0645220279693604 s\n"
     ]
    }
   ],
   "source": [
    "import time\n",
    "e1=time.time()  # time.time()直接返回秒数\n",
    "for ksize in range(5,49,2):\n",
    "    ima1=cv2.medianBlur(ima1,ksize)\n",
    "e2=time.time()\n",
    "t=(e2-e1)\n",
    "print('median blur use {} s'.format(t))\n"
   ]
  },
  {
   "cell_type": "markdown",
   "metadata": {},
   "source": [
    "## 优化\n",
    "\n",
    "opencv的优化默认开启"
   ]
  },
  {
   "cell_type": "code",
   "execution_count": 30,
   "metadata": {},
   "outputs": [
    {
     "name": "stdout",
     "output_type": "stream",
     "text": [
      "优化开启:\t True\n",
      "149 ms ± 6.27 ms per loop (mean ± std. dev. of 7 runs, 10 loops each)\n",
      "优化开启:\t False\n",
      "150 ms ± 4.53 ms per loop (mean ± std. dev. of 7 runs, 10 loops each)\n"
     ]
    }
   ],
   "source": [
    "\n",
    "print('优化开启:\\t', cv2.useOptimized())\n",
    "%timeit res = cv2.medianBlur(ima1,49)# 魔法命令， 将该语句执行多次从而得到教准确的执行时间\n",
    "cv2.setUseOptimized(False)\n",
    "print('优化开启:\\t', cv2.useOptimized())\n",
    "%timeit res = cv2.medianBlur(ima1,49)\n",
    "cv2.setUseOptimized(True)"
   ]
  },
  {
   "cell_type": "code",
   "execution_count": 46,
   "metadata": {},
   "outputs": [
    {
     "name": "stdout",
     "output_type": "stream",
     "text": [
      "738 ns ± 16.7 ns per loop (mean ± std. dev. of 7 runs, 1000000 loops each)\n",
      "530 ns ± 13 ns per loop (mean ± std. dev. of 7 runs, 1000000 loops each)\n",
      "opencv----------numpy\n",
      "1.48 ms ± 47.2 µs per loop (mean ± std. dev. of 7 runs, 1000 loops each)\n",
      "3.99 ms ± 147 µs per loop (mean ± std. dev. of 7 runs, 100 loops each)\n"
     ]
    }
   ],
   "source": [
    "x=5\n",
    "%timeit y=np.square(x**2)\n",
    "%timeit y=np.square(x)  \n",
    "print('opencv----------numpy')\n",
    "%timeit z = cv2.countNonZero(img1[:,:,1])# cv2.countNonZero只能用于单层图像\n",
    "%timeit z = np.count_nonzero(img1[:,:,1])"
   ]
  },
  {
   "cell_type": "markdown",
   "metadata": {},
   "source": [
    "<font size=\"5\" color='red'>Python 的标量计算比 Nump 的标量计算要快, np处理多元素数组快</font>  \n",
    "<font size=\"5\" color='red'>opencv 比np 快， 除了用np 对视图操作</font>"
   ]
  },
  {
   "cell_type": "markdown",
   "metadata": {},
   "source": [
    "1. 尽量避免使用循环，尤其双层三层循环，它们天生就是非常慢的。\n",
    "2. 算法中尽量使用向量操作，因为 Numpy 和 OpenCV 都对向量操作进行了优化。\n",
    "3. 利用高速缓存一致性。\n",
    "4. 没有必要的话就不要复制数组。使用视图来代替复制。数组复制是非常浪费资源的。  \n",
    "依旧很慢可以考虑Cython\n"
   ]
  },
  {
   "cell_type": "code",
   "execution_count": null,
   "metadata": {},
   "outputs": [],
   "source": []
  }
 ],
 "metadata": {
  "kernelspec": {
   "display_name": "Python 3",
   "language": "python",
   "name": "python3"
  },
  "language_info": {
   "codemirror_mode": {
    "name": "ipython",
    "version": 3
   },
   "file_extension": ".py",
   "mimetype": "text/x-python",
   "name": "python",
   "nbconvert_exporter": "python",
   "pygments_lexer": "ipython3",
   "version": "3.6.5"
  }
 },
 "nbformat": 4,
 "nbformat_minor": 2
}
